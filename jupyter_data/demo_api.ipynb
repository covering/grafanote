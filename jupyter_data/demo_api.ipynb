{
 "cells": [
  {
   "cell_type": "code",
   "execution_count": null,
   "id": "07448615-6e41-4ec6-9b8a-2b261973ec8f",
   "metadata": {},
   "outputs": [],
   "source": []
  },
  {
   "cell_type": "code",
   "execution_count": null,
   "id": "ceac35fd-f071-4aa6-b496-fb1b6bcab994",
   "metadata": {},
   "outputs": [
    {
     "name": "stdout",
     "output_type": "stream",
     "text": [
      " * Serving Flask app '__main__'\n",
      " * Debug mode: off\n"
     ]
    },
    {
     "name": "stderr",
     "output_type": "stream",
     "text": [
      "WARNING: This is a development server. Do not use it in a production deployment. Use a production WSGI server instead.\n",
      " * Running on all addresses (0.0.0.0)\n",
      " * Running on http://127.0.0.1:9000\n",
      " * Running on http://192.168.176.3:9000\n",
      "Press CTRL+C to quit\n",
      "192.168.176.4 - - [16/Apr/2024 08:11:52] \"GET /apis/todo/refresh HTTP/1.1\" 200 -\n"
     ]
    }
   ],
   "source": [
    "from flask import Flask, request\n",
    "#from flask_cors import CORS\n",
    "import json\n",
    " \n",
    "app = Flask(__name__)\n",
    "#CORS(app, supports_credentials=True)  # 允许cross domain\n",
    " \n",
    "class TodoConf:\n",
    "    # name: status pair. status 0表示没有完成, 1表示完成. 和js的代码对应.\n",
    "    todos = {\n",
    "        '0': {'id': '0', 'name': 'foo', 'status': 0},\n",
    "        '1': {'id': '1', 'name': 'bar', 'status': 1}\n",
    "    }\n",
    " \n",
    " \n",
    "@app.route('/apis/todo/refresh', methods=['POST', 'GET'])\n",
    "def todo_refresh():\n",
    "    return json.dumps([v for v in TodoConf.todos.values()])\n",
    "     \n",
    " \n",
    "app.run(host='0.0.0.0', port=9000)\n"
   ]
  }
 ],
 "metadata": {
  "kernelspec": {
   "display_name": "Python 3 (ipykernel)",
   "language": "python",
   "name": "python3"
  },
  "language_info": {
   "codemirror_mode": {
    "name": "ipython",
    "version": 3
   },
   "file_extension": ".py",
   "mimetype": "text/x-python",
   "name": "python",
   "nbconvert_exporter": "python",
   "pygments_lexer": "ipython3",
   "version": "3.11.6"
  }
 },
 "nbformat": 4,
 "nbformat_minor": 5
}
